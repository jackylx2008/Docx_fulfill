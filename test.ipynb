{
 "metadata": {
  "language_info": {
   "codemirror_mode": {
    "name": "ipython",
    "version": 3
   },
   "file_extension": ".py",
   "mimetype": "text/x-python",
   "name": "python",
   "nbconvert_exporter": "python",
   "pygments_lexer": "ipython3",
   "version": "3.7.1-final"
  },
  "orig_nbformat": 2,
  "kernelspec": {
   "name": "python3",
   "display_name": "Python 3"
  }
 },
 "nbformat": 4,
 "nbformat_minor": 2,
 "cells": [
  {
   "source": [
    "### 1.测试学习一下dataframe提取数据为list和dict"
   ],
   "cell_type": "markdown",
   "metadata": {}
  },
  {
   "cell_type": "code",
   "execution_count": 3,
   "metadata": {},
   "outputs": [
    {
     "output_type": "stream",
     "name": "stdout",
     "text": [
      "{'06-03-C2-001-E': 10, '06-03-C2-002-E': 12, '06-03-C2-002-C': 14, '06-03-C2-001-C': 16, '05-03-C2-001-E': 17, '05-03-C2-002-C': 18, '05-03-C2-001-C': 19, '06-03-C2-003-E': 22, '05-03-C2-002-E': 24, '06-03-C2-004-E': 30, '05-03-C2-004-E': 32, '06-03-C2-003-C': 37, '05-03-C2-003-C': 38, '05-03-C2-003-E': 39, '06-03-C2-005-E': 42}\n['审批表编号', '提出单位一', '变更原因二', '变更内容三', '变更通知单编号']\n"
     ]
    }
   ],
   "source": [
    "import pandas as pd\n",
    "\n",
    "test_file = \"D:\\\\CloudStation\\\\Python\\\\Project\\\\CNCC2_DesignChange_Doc\\\\CNCC2_DesignChanges.xlsx\"\n",
    "df = pd.read_excel(test_file)\n",
    "# df两列cols生成dict\n",
    "df_to_dict = df.set_index(\"变更通知单编号\").to_dict()['审批表编号']\n",
    "print(df_to_dict)\n",
    "# df的cols名转换为list\n",
    "df_cols_to_list = list(df) # 操，TMD简单了\n",
    "print(df_cols_to_list)\n"
   ]
  },
  {
   "cell_type": "code",
   "execution_count": null,
   "metadata": {},
   "outputs": [],
   "source": [
    "    \"\"\" 在指定的src目录内遍历一级子目录folder_names，按照关键词找到对应的folder拷贝到des目录\n",
    "\n",
    "    Args:\n",
    "        src_dir (str): 源文件夹\n",
    "        folder_key_names (str): 关键词\n",
    "        des_dir (str): 目标文件夹"
   ]
  }
 ]
}